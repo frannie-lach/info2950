{
 "cells": [
  {
   "cell_type": "markdown",
   "metadata": {},
   "source": [
    "# Phase II  \n",
    "Prompt: Data collection and exploratory data analysis. Due Mar 17. \n",
    "Settle on a single idea and state your research question(s) clearly.\n",
    "Carry out most of your data collection and cleaning.\n",
    "Compute some relevant summary statistics, and show some plots of your data, as applicable to your research question(s). Use this exploratory data analysis to:\n",
    "update your research question(s), if applicable;\n",
    "update your data description, if applicable (e.g. if you collect additional data).\n",
    "Submit an executed Jupyter notebook (.ipynb) file on CMS with the following sections:\n",
    "1. Research question(s). State your research question(s) clearly.\n",
    "2. Data collection and cleaning. Have an initial draft of your data cleaning appendix. Document every step that takes your raw data file(s) and turns it into the analysis-ready data set that you would submit with your final project. Include text cells describing your data collection (downloading, scraping, surveys, etc), and text cells describing any additional data curation/cleaning (merging data frames, filtering, transformations of variables, etc). Include code cells for data curation/cleaning, but not collection. Note: You should be saving data in intermediate files at several points through this process so that you are not starting from scratch every time you change something. This also makes sure you have documentation for everything that you have done for your reference, but we do not necessarily need to see all of it in code form.\n",
    "3. Data description. Have an initial draft of your data description section. Your data description should be about your analysis-ready data. \n",
    "4. Data limitations. Identify any potential problems with your dataset. \n",
    "5. Exploratory data analysis. Perform an (initial) exploratory data analysis. \n",
    "6. Questions for reviewers. List specific questions for your peer reviewers and project mentor to answer in giving you feedback on this phase."
   ]
  },
  {
   "cell_type": "markdown",
   "metadata": {},
   "source": [
    "## Reasearch Questions\n",
    "\n",
    "Our team is extremely excited to analyze NBA data for our project. \n",
    "\n",
    "Our Questions:\n",
    "1. How did the average NBA salary increase over the years?\n",
    "2. What was the standard deviation and variance of the players' salaries in 1985 as opposed to now?\n",
    "3. Which teams have the deepest pockets?\n",
    "4. What was the range of salaries for each season?"
   ]
  },
  {
   "cell_type": "markdown",
   "metadata": {},
   "source": [
    "### Data Collection and Cleaning"
   ]
  },
  {
   "cell_type": "code",
   "execution_count": 2,
   "metadata": {},
   "outputs": [
    {
     "data": {
      "text/html": [
       "<div>\n",
       "<style scoped>\n",
       "    .dataframe tbody tr th:only-of-type {\n",
       "        vertical-align: middle;\n",
       "    }\n",
       "\n",
       "    .dataframe tbody tr th {\n",
       "        vertical-align: top;\n",
       "    }\n",
       "\n",
       "    .dataframe thead th {\n",
       "        text-align: right;\n",
       "    }\n",
       "</style>\n",
       "<table border=\"1\" class=\"dataframe\">\n",
       "  <thead>\n",
       "    <tr style=\"text-align: right;\">\n",
       "      <th></th>\n",
       "      <th>league</th>\n",
       "      <th>player_id</th>\n",
       "      <th>salary</th>\n",
       "      <th>season</th>\n",
       "      <th>season_end</th>\n",
       "      <th>season_start</th>\n",
       "      <th>team</th>\n",
       "    </tr>\n",
       "  </thead>\n",
       "  <tbody>\n",
       "    <tr>\n",
       "      <th>0</th>\n",
       "      <td>NBA</td>\n",
       "      <td>abdelal01</td>\n",
       "      <td>395000</td>\n",
       "      <td>1990-91</td>\n",
       "      <td>1991</td>\n",
       "      <td>1990</td>\n",
       "      <td>Portland Trail Blazers</td>\n",
       "    </tr>\n",
       "    <tr>\n",
       "      <th>1</th>\n",
       "      <td>NBA</td>\n",
       "      <td>abdelal01</td>\n",
       "      <td>494000</td>\n",
       "      <td>1991-92</td>\n",
       "      <td>1992</td>\n",
       "      <td>1991</td>\n",
       "      <td>Portland Trail Blazers</td>\n",
       "    </tr>\n",
       "    <tr>\n",
       "      <th>2</th>\n",
       "      <td>NBA</td>\n",
       "      <td>abdelal01</td>\n",
       "      <td>500000</td>\n",
       "      <td>1992-93</td>\n",
       "      <td>1993</td>\n",
       "      <td>1992</td>\n",
       "      <td>Boston Celtics</td>\n",
       "    </tr>\n",
       "    <tr>\n",
       "      <th>3</th>\n",
       "      <td>NBA</td>\n",
       "      <td>abdelal01</td>\n",
       "      <td>805000</td>\n",
       "      <td>1993-94</td>\n",
       "      <td>1994</td>\n",
       "      <td>1993</td>\n",
       "      <td>Boston Celtics</td>\n",
       "    </tr>\n",
       "    <tr>\n",
       "      <th>4</th>\n",
       "      <td>NBA</td>\n",
       "      <td>abdelal01</td>\n",
       "      <td>650000</td>\n",
       "      <td>1994-95</td>\n",
       "      <td>1995</td>\n",
       "      <td>1994</td>\n",
       "      <td>Sacramento Kings</td>\n",
       "    </tr>\n",
       "  </tbody>\n",
       "</table>\n",
       "</div>"
      ],
      "text/plain": [
       "  league  player_id  salary   season  season_end  season_start  \\\n",
       "0    NBA  abdelal01  395000  1990-91        1991          1990   \n",
       "1    NBA  abdelal01  494000  1991-92        1992          1991   \n",
       "2    NBA  abdelal01  500000  1992-93        1993          1992   \n",
       "3    NBA  abdelal01  805000  1993-94        1994          1993   \n",
       "4    NBA  abdelal01  650000  1994-95        1995          1994   \n",
       "\n",
       "                     team  \n",
       "0  Portland Trail Blazers  \n",
       "1  Portland Trail Blazers  \n",
       "2          Boston Celtics  \n",
       "3          Boston Celtics  \n",
       "4        Sacramento Kings  "
      ]
     },
     "execution_count": 2,
     "metadata": {},
     "output_type": "execute_result"
    }
   ],
   "source": [
    "## load libraries\n",
    "import pandas as pd\n",
    "import numpy as np\n",
    "import matplotlib.pyplot as plt\n",
    "from scipy import stats\n",
    "\n",
    "## load data\n",
    "nba_data = pd.read_csv(\"salaries.csv\")\n",
    "nba_data.head()"
   ]
  },
  {
   "cell_type": "code",
   "execution_count": 11,
   "metadata": {},
   "outputs": [
    {
     "data": {
      "text/html": [
       "<div>\n",
       "<style scoped>\n",
       "    .dataframe tbody tr th:only-of-type {\n",
       "        vertical-align: middle;\n",
       "    }\n",
       "\n",
       "    .dataframe tbody tr th {\n",
       "        vertical-align: top;\n",
       "    }\n",
       "\n",
       "    .dataframe thead th {\n",
       "        text-align: right;\n",
       "    }\n",
       "</style>\n",
       "<table border=\"1\" class=\"dataframe\">\n",
       "  <thead>\n",
       "    <tr style=\"text-align: right;\">\n",
       "      <th></th>\n",
       "      <th>salary</th>\n",
       "      <th>season_end</th>\n",
       "    </tr>\n",
       "  </thead>\n",
       "  <tbody>\n",
       "    <tr>\n",
       "      <th>count</th>\n",
       "      <td>1.416300e+04</td>\n",
       "      <td>14163.00000</td>\n",
       "    </tr>\n",
       "    <tr>\n",
       "      <th>mean</th>\n",
       "      <td>3.164870e+06</td>\n",
       "      <td>2003.66942</td>\n",
       "    </tr>\n",
       "    <tr>\n",
       "      <th>std</th>\n",
       "      <td>4.185046e+06</td>\n",
       "      <td>9.16469</td>\n",
       "    </tr>\n",
       "    <tr>\n",
       "      <th>min</th>\n",
       "      <td>2.706000e+03</td>\n",
       "      <td>1985.00000</td>\n",
       "    </tr>\n",
       "    <tr>\n",
       "      <th>25%</th>\n",
       "      <td>6.300000e+05</td>\n",
       "      <td>1996.00000</td>\n",
       "    </tr>\n",
       "    <tr>\n",
       "      <th>50%</th>\n",
       "      <td>1.500000e+06</td>\n",
       "      <td>2004.00000</td>\n",
       "    </tr>\n",
       "    <tr>\n",
       "      <th>75%</th>\n",
       "      <td>3.884239e+06</td>\n",
       "      <td>2012.00000</td>\n",
       "    </tr>\n",
       "    <tr>\n",
       "      <th>max</th>\n",
       "      <td>3.468255e+07</td>\n",
       "      <td>2018.00000</td>\n",
       "    </tr>\n",
       "  </tbody>\n",
       "</table>\n",
       "</div>"
      ],
      "text/plain": [
       "             salary   season_end\n",
       "count  1.416300e+04  14163.00000\n",
       "mean   3.164870e+06   2003.66942\n",
       "std    4.185046e+06      9.16469\n",
       "min    2.706000e+03   1985.00000\n",
       "25%    6.300000e+05   1996.00000\n",
       "50%    1.500000e+06   2004.00000\n",
       "75%    3.884239e+06   2012.00000\n",
       "max    3.468255e+07   2018.00000"
      ]
     },
     "execution_count": 11,
     "metadata": {},
     "output_type": "execute_result"
    }
   ],
   "source": [
    "columns_of_interest= [\"player_id\", \"salary\", \"season_end\", \"team\"]\n",
    "nba_data[columns_of_interest].describe()"
   ]
  },
  {
   "cell_type": "code",
   "execution_count": 28,
   "metadata": {},
   "outputs": [
    {
     "data": {
      "text/html": [
       "<div>\n",
       "<style scoped>\n",
       "    .dataframe tbody tr th:only-of-type {\n",
       "        vertical-align: middle;\n",
       "    }\n",
       "\n",
       "    .dataframe tbody tr th {\n",
       "        vertical-align: top;\n",
       "    }\n",
       "\n",
       "    .dataframe thead th {\n",
       "        text-align: right;\n",
       "    }\n",
       "</style>\n",
       "<table border=\"1\" class=\"dataframe\">\n",
       "  <thead>\n",
       "    <tr style=\"text-align: right;\">\n",
       "      <th></th>\n",
       "      <th>salary</th>\n",
       "      <th>season_end</th>\n",
       "      <th>season_start</th>\n",
       "    </tr>\n",
       "    <tr>\n",
       "      <th>team</th>\n",
       "      <th></th>\n",
       "      <th></th>\n",
       "      <th></th>\n",
       "    </tr>\n",
       "  </thead>\n",
       "  <tbody>\n",
       "    <tr>\n",
       "      <th>Atlanta Hawks</th>\n",
       "      <td>2.845382e+06</td>\n",
       "      <td>2003.097166</td>\n",
       "      <td>2002.097166</td>\n",
       "    </tr>\n",
       "    <tr>\n",
       "      <th>Boston Celtics</th>\n",
       "      <td>3.104096e+06</td>\n",
       "      <td>2002.503984</td>\n",
       "      <td>2001.503984</td>\n",
       "    </tr>\n",
       "    <tr>\n",
       "      <th>Brooklyn Nets</th>\n",
       "      <td>5.240632e+06</td>\n",
       "      <td>2015.708738</td>\n",
       "      <td>2014.708738</td>\n",
       "    </tr>\n",
       "    <tr>\n",
       "      <th>Charlotte Bobcats</th>\n",
       "      <td>3.380740e+06</td>\n",
       "      <td>2009.429487</td>\n",
       "      <td>2008.429487</td>\n",
       "    </tr>\n",
       "    <tr>\n",
       "      <th>Charlotte Hornets</th>\n",
       "      <td>2.677234e+06</td>\n",
       "      <td>2001.308300</td>\n",
       "      <td>2000.308300</td>\n",
       "    </tr>\n",
       "  </tbody>\n",
       "</table>\n",
       "</div>"
      ],
      "text/plain": [
       "                         salary   season_end  season_start\n",
       "team                                                      \n",
       "Atlanta Hawks      2.845382e+06  2003.097166   2002.097166\n",
       "Boston Celtics     3.104096e+06  2002.503984   2001.503984\n",
       "Brooklyn Nets      5.240632e+06  2015.708738   2014.708738\n",
       "Charlotte Bobcats  3.380740e+06  2009.429487   2008.429487\n",
       "Charlotte Hornets  2.677234e+06  2001.308300   2000.308300"
      ]
     },
     "execution_count": 28,
     "metadata": {},
     "output_type": "execute_result"
    }
   ],
   "source": [
    "season_means = nba_data.groupby('team').mean()\n",
    "season_means.head()"
   ]
  },
  {
   "cell_type": "code",
   "execution_count": null,
   "metadata": {},
   "outputs": [],
   "source": [
    "plt."
   ]
  },
  {
   "cell_type": "code",
   "execution_count": 4,
   "metadata": {},
   "outputs": [
    {
     "data": {
      "image/png": "[encoded data removed]",
      "text/plain": [
       "<Figure size 432x288 with 1 Axes>"
      ]
     },
     "metadata": {
      "needs_background": "light"
     },
     "output_type": "display_data"
    }
   ],
   "source": [
    "nba_data.boxplot(by ='team', column = ['salary'], grid=False) \n",
    "plt.show()"
   ]
  },
  {
   "cell_type": "markdown",
   "metadata": {},
   "source": [
    "### Data Description"
   ]
  },
  {
   "cell_type": "markdown",
   "metadata": {},
   "source": [
    "### Data Limitations"
   ]
  },
  {
   "cell_type": "markdown",
   "metadata": {},
   "source": [
    "### Exploratory Data Analysis"
   ]
  },
  {
   "cell_type": "markdown",
   "metadata": {},
   "source": [
    "### Questions for Reviewers "
   ]
  },
  {
   "cell_type": "code",
   "execution_count": null,
   "metadata": {},
   "outputs": [],
   "source": []
  }
 ],
 "metadata": {
  "kernelspec": {
   "display_name": "Python 3",
   "language": "python",
   "name": "python3"
  },
  "language_info": {
   "codemirror_mode": {
    "name": "ipython",
    "version": 3
   },
   "file_extension": ".py",
   "mimetype": "text/x-python",
   "name": "python",
   "nbconvert_exporter": "python",
   "pygments_lexer": "ipython3",
   "version": "3.8.5"
  }
 },
 "nbformat": 4,
 "nbformat_minor": 4
}
